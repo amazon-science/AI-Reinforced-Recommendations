{
 "cells": [
  {
   "cell_type": "markdown",
   "metadata": {},
   "source": [
    "## Generate Item Embedding for Evaluating Diversity"
   ]
  },
  {
   "cell_type": "code",
   "execution_count": null,
   "metadata": {},
   "outputs": [],
   "source": [
    "import pandas as pd\n",
    "from src.utils.embedding import setup_model_and_tokenizer, encode_in_batches, save_embeddings\n",
    "\n",
    "\n",
    "def get_id2name():\n",
    "    df = pd.read_parquet('../../dataset/shopping_queries_dataset/shopping_queries_dataset_products.parquet')\n",
    "    item_id2name = dict(zip(df.product_id, df.product_title))\n",
    "    return item_id2name\n",
    "\n",
    "\n",
    "id2name = get_id2name()\n",
    "model, tokenizer, device = setup_model_and_tokenizer()\n",
    "corpus = list(id2name.values())\n",
    "embeddings = encode_in_batches(corpus, model, tokenizer, device)\n",
    "save_embeddings(embeddings, list(id2name.keys()), f'dataset/esci-npos10-nneg5/embeddings.npy')"
   ]
  },
  {
   "cell_type": "markdown",
   "metadata": {},
   "source": [
    "## Evaluate ESCI"
   ]
  },
  {
   "cell_type": "code",
   "execution_count": null,
   "metadata": {},
   "outputs": [],
   "source": [
    "import glob\n",
    "import re\n",
    "from tqdm import tqdm\n",
    "import pandas as pd\n",
    "from embedding_utils import load_embeddings\n",
    "from src.utils.eval import calculate_diversity\n",
    "\n",
    "\n",
    "def calculate_relevance(labels, k):\n",
    "    \"\"\"Compute Precision@k and NDCG@k for a list of labels with custom gain values.\"\"\"\n",
    "    gain_map = {'E': 1, 'S': 0.2, 'C': 0.1, 'I': 0}  # Define gain for each label\n",
    "\n",
    "    # Compute Precision@k\n",
    "    precision_score = sum([label == 'E' for label in labels[:k]]) / k\n",
    "\n",
    "    # Calculate DCG with custom gains\n",
    "    dcg = sum((2 ** gain_map[labels[i]] - 1) / np.log2(i + 2) for i in range(min(k, len(labels))))\n",
    "\n",
    "    # Generate ideal labels sorted by highest gain for IDCG calculation\n",
    "    ideal_labels = ['E']*k\n",
    "    idcg = sum((2 ** gain_map[ideal_labels[i]] - 1) / np.log2(i + 2) for i in range(min(k, len(ideal_labels))))\n",
    "\n",
    "    # Compute NDCG\n",
    "    ndcg_score = dcg / idcg if idcg > 0 else 0.0\n",
    "    return precision_score, ndcg_score\n",
    "\n",
    "\n",
    "category = 'All_Beauty'\n",
    "fn = 'output/esci/esci-dpo-iter3/test.json'\n",
    "dataset = pd.read_json(fn, lines=True)\n",
    "\n",
    "embeddings = load_embeddings(f'dataset/esci-npos10-nneg5/embeddings.npy')\n",
    "id2name = get_id2name(category)\n",
    "name2id = {v: k for k, v in id2name.items()}\n",
    "\n",
    "\n",
    "precision_scores = []\n",
    "ndcg_scores = []\n",
    "diversity_scores = []\n",
    "k = 5\n",
    "valid = 0\n",
    "for _, example in tqdm(dataset.iterrows(), total=len(dataset)):\n",
    "    pred = re.findall(r'\\d+\\.\\s(.+?)\\s-', example['output'].strip())\n",
    "    cans = example['itemIDList']\n",
    "    label_mapping = {i: j for i, j in zip(example['itemIDList'], example['esciLabel'])}\n",
    "    valid_pred = [p for p in pred if p in cans]\n",
    "    if len(valid_pred) != k:\n",
    "        continue\n",
    "    valid += 1\n",
    "    label = [label_mapping[name2id[p]] for p in valid_pred]\n",
    "    precision_score, ndcg_score = calculate_relevance(valid_pred, label, k)\n",
    "    valid_pred_ids = [name2id[i] for i in valid_pred]\n",
    "    diversity_score = calculate_diversity(valid_pred_ids, embeddings, k)\n",
    "\n",
    "    precision_scores.append(precision_score)\n",
    "    ndcg_scores.append(ndcg_score)\n",
    "    diversity_scores.append(diversity_score)\n",
    "\n",
    "print(f'Evaluation Results:')\n",
    "print(len(dataset))\n",
    "print(f'Valid Fraction: {valid/len(dataset):.4f}')\n",
    "print(f'Hit@{k}: {sum(precision_scores)/len(dataset):.4f}')\n",
    "print(f'NDCG@{k}: {sum(ndcg_scores)/len(dataset):.4f}')\n",
    "print(f'Diversity@{k}: {sum(diversity_scores)/len(dataset):.4f}')"
   ]
  }
 ],
 "metadata": {
  "kernelspec": {
   "display_name": "dev",
   "language": "python",
   "name": "python3"
  },
  "language_info": {
   "codemirror_mode": {
    "name": "ipython",
    "version": 3
   },
   "file_extension": ".py",
   "mimetype": "text/x-python",
   "name": "python",
   "nbconvert_exporter": "python",
   "pygments_lexer": "ipython3",
   "version": "3.9.19"
  }
 },
 "nbformat": 4,
 "nbformat_minor": 2
}
